{
 "cells": [
  {
   "cell_type": "markdown",
   "id": "69ed4ed2",
   "metadata": {},
   "source": [
    "<img title=\"a title\" alt=\"Alt text\" src=\"social.png\" width=\"100\" height=\"100\"> \n",
    "\n",
    "# Análise de Repositórios GitHub por Linguagem de Programação\n",
    "\n",
    "## 🌍 Introdução\n",
    "Este projeto tem como objetivo criar um dataset rico e estruturado com informações dos repositórios mais relevantes do GitHub, organizados pelas 10 linguagens de programação mais populares em 2025. Com esses dados, podemos responder perguntas como:\n",
    "\n",
    "- Qual linguagem tem os projetos mais estrelados?\n",
    "- Há correlação entre o número de contribuidores e a atividade do repositório?\n",
    "- Quais licenças são mais comuns em projetos open-source?\n",
    "- Como a localização geográfica dos donos influencia a popularidade dos repositórios?\n",
    "\n",
    "O dataset gerado pode ser usado para:\n",
    "\n",
    "✅ Identificação de tendências no desenvolvimento de software\n",
    "\n",
    "✅ Análise de comunidades open-source\n",
    "\n",
    "✅ Tomada de decisões para contribuições ou adoção de tecnologias"
   ]
  },
  {
   "cell_type": "code",
   "execution_count": null,
   "id": "9c7cc124",
   "metadata": {},
   "outputs": [],
   "source": [
    "# !pip install pandas\n",
    "# !pip install requests"
   ]
  },
  {
   "cell_type": "markdown",
   "id": "e0201cd3",
   "metadata": {},
   "source": [
    "### Imports"
   ]
  },
  {
   "cell_type": "code",
   "execution_count": 10,
   "id": "687dda73",
   "metadata": {},
   "outputs": [],
   "source": [
    "import requests\n",
    "import pandas as pd\n",
    "from datetime import datetime, timedelta\n",
    "import time\n",
    "import random"
   ]
  },
  {
   "cell_type": "markdown",
   "id": "96f302fe",
   "metadata": {},
   "source": [
    "## 🔄 Rotação de Tokens\n",
    "Para evitar limites da API, usamos múltiplos tokens com seleção aleatória:"
   ]
  },
  {
   "cell_type": "code",
   "execution_count": null,
   "id": "b4cda990",
   "metadata": {},
   "outputs": [],
   "source": [
    "TOKENS = [\n",
    "            # \"TOKENS\"\n",
    "    ]   \n",
    "\n",
    "def get_headers():\n",
    "    return {\"Authorization\": f\"token {random.choice(TOKENS)}\"}"
   ]
  },
  {
   "cell_type": "markdown",
   "id": "6d5f80cf",
   "metadata": {},
   "source": [
    "## 🔧 Configuração Inicial\n",
    "Definir as linguagens para análise e parâmetros de paginação para extração eficiente dos dados."
   ]
  },
  {
   "cell_type": "code",
   "execution_count": 12,
   "id": "0bebbcae",
   "metadata": {},
   "outputs": [],
   "source": [
    "LANGUAGES = [\"Python\", \"JavaScript\", \"Java\", \"C#\", \"C++\", \"TypeScript\", \"Go\", \"Rust\", \"Kotlin\", \"Swift\"]\n",
    "PER_PAGE = 100\n",
    "PAGES = 15 "
   ]
  },
  {
   "cell_type": "markdown",
   "id": "0263a6d3",
   "metadata": {},
   "source": [
    "## 👤 Obter Informações do Dono do Repositório\n",
    "- Acessa o perfil do dono via API\n",
    "\n",
    "- Trata 3 informações principais: tipo, quantidade de repositórios e localização\n",
    "\n",
    "- Implementa tratamento robusto de erros"
   ]
  },
  {
   "cell_type": "code",
   "execution_count": 13,
   "id": "c6fdbc03",
   "metadata": {},
   "outputs": [],
   "source": [
    "def get_owner_info(owner_url):\n",
    "    try:\n",
    "        response = requests.get(owner_url, headers=get_headers())\n",
    "        if response.status_code == 200:\n",
    "            owner_data = response.json()\n",
    "            return {\n",
    "                \"owner_type\": owner_data.get(\"type\", \"User\"),\n",
    "                \"owner_public_repos\": owner_data.get(\"public_repos\", 0),\n",
    "                \"owner_location\": owner_data.get(\"location\", None)\n",
    "            }\n",
    "    except Exception as e:\n",
    "        print(f\"Erro ao buscar owner: {e}\")\n",
    "    return {}"
   ]
  },
  {
   "cell_type": "markdown",
   "id": "9c61206c",
   "metadata": {},
   "source": [
    "## 📈 Coletar Estatísticas do Repositório\n",
    "- Paginação automática para contagem de contribuidores\n",
    "\n",
    "- Filtro temporal para issues fechadas\n",
    "\n",
    "- Delay entre requisições para evitar rate limits"
   ]
  },
  {
   "cell_type": "code",
   "execution_count": null,
   "id": "f7f9f65d",
   "metadata": {},
   "outputs": [],
   "source": [
    "def get_repo_stats(owner, repo_name):\n",
    "    stats = {\n",
    "        \"subscribers_count\": 0,\n",
    "        \"last_year_commits\": 0,\n",
    "        \"contributors\": 0,\n",
    "        \"closed_issues\": 0,\n",
    "        \"pull_requests\": 0\n",
    "    }\n",
    "    \n",
    "    try:\n",
    "        subscribers = requests.get(\n",
    "            f\"https://api.github.com/repos/{owner}/{repo_name}/subscribers\",\n",
    "            headers=get_headers()\n",
    "        )\n",
    "        stats[\"subscribers_count\"] = len(subscribers.json()) if subscribers.status_code == 200 else 0\n",
    "\n",
    "        participation = requests.get(\n",
    "            f\"https://api.github.com/repos/{owner}/{repo_name}/stats/participation\",\n",
    "            headers=get_headers()\n",
    "        )\n",
    "        if participation.status_code == 200:\n",
    "            stats[\"last_year_commits\"] = sum(participation.json().get(\"all\", [])[-52:])\n",
    "\n",
    "        contributors = []\n",
    "        page = 1\n",
    "        while True:\n",
    "            url = f\"https://api.github.com/repos/{owner}/{repo_name}/contributors?page={page}&per_page=100\"\n",
    "            response = requests.get(url, headers=get_headers())\n",
    "            if response.status_code == 200:\n",
    "                page_contributors = response.json()\n",
    "                if not page_contributors:\n",
    "                    break\n",
    "                contributors.extend(page_contributors)\n",
    "                page += 1\n",
    "                time.sleep(1)\n",
    "            else:\n",
    "                break        \n",
    "        stats[\"contributors\"] = len(contributors)\n",
    "\n",
    "        since_date = (datetime.now() - timedelta(days=180)).isoformat()\n",
    "        closed_issues = requests.get(\n",
    "            f\"https://api.github.com/repos/{owner}/{repo_name}/issues?state=closed&since={since_date}\",\n",
    "            headers=get_headers()\n",
    "        )\n",
    "        stats[\"closed_issues\"] = len(closed_issues.json()) if closed_issues.status_code == 200 else 0\n",
    "\n",
    "        prs = requests.get(\n",
    "            f\"https://api.github.com/repos/{owner}/{repo_name}/pulls?state=all\",\n",
    "            headers=get_headers()\n",
    "        )\n",
    "        stats[\"pull_requests\"] = len(prs.json()) if prs.status_code == 200 else 0\n",
    "\n",
    "    except Exception as e:\n",
    "        print(f\"Erro ao buscar stats: {e}\")\n",
    "    \n",
    "    return stats"
   ]
  },
  {
   "cell_type": "markdown",
   "id": "c4a7ee07",
   "metadata": {},
   "source": [
    "## 🔍 Função Principal: Busca por Linguagem\n",
    "- Rotação automática de tokens\n",
    "\n",
    "- Intervalos entre requisições\n",
    "\n",
    "- Consolidação em DataFrame"
   ]
  },
  {
   "cell_type": "code",
   "execution_count": 15,
   "id": "bf06e907",
   "metadata": {},
   "outputs": [],
   "source": [
    "def fetch_repos_by_language(language):\n",
    "    all_repos = []\n",
    "    \n",
    "    for page in range(1, PAGES + 1):\n",
    "        try:\n",
    "            url = f\"https://api.github.com/search/repositories?q=language:{language}&sort=stars&page={page}&per_page={PER_PAGE}\"\n",
    "            response = requests.get(url, headers=get_headers())\n",
    "            \n",
    "            if response.status_code == 403:\n",
    "                print(\"Rate limit excedido, trocando token...\")\n",
    "                time.sleep(60)\n",
    "                continue\n",
    "                \n",
    "            response.raise_for_status()\n",
    "            \n",
    "            for repo in response.json()[\"items\"]:\n",
    "                repo_info = {\n",
    "                    \"name\": repo[\"name\"],\n",
    "                    \"owner\": repo[\"owner\"][\"login\"],\n",
    "                    \"stars\": repo[\"stargazers_count\"],\n",
    "                    \"forks\": repo[\"forks_count\"],\n",
    "                    \"language\": repo[\"language\"],\n",
    "                    \"created_at\": repo[\"created_at\"],\n",
    "                    \"updated_at\": repo[\"updated_at\"],\n",
    "                    \"size_kb\": repo[\"size\"],\n",
    "                    \"watchers_count\": repo[\"watchers_count\"],\n",
    "                    \"open_issues\": repo[\"open_issues_count\"]\n",
    "                }\n",
    "                \n",
    "                repo_info.update(get_owner_info(repo[\"owner\"][\"url\"]))\n",
    "                repo_info.update(get_repo_stats(repo[\"owner\"][\"login\"], repo[\"name\"]))\n",
    "                \n",
    "                all_repos.append(repo_info)\n",
    "                \n",
    "                time.sleep(1)\n",
    "                \n",
    "        except Exception as e:\n",
    "            print(f\"Erro na página {page}: {e}\")\n",
    "            continue\n",
    "            \n",
    "    return pd.DataFrame(all_repos)"
   ]
  },
  {
   "cell_type": "markdown",
   "id": "9bb2af52",
   "metadata": {},
   "source": [
    "## 🚀 Execução e Exportação\n",
    "- Arquivo github_repos_completos.csv com todas as linguagens\n",
    "\n",
    "- Estrutura padronizada para análise"
   ]
  },
  {
   "cell_type": "code",
   "execution_count": null,
   "metadata": {},
   "outputs": [],
   "source": [
    "def main():\n",
    "    all_data = pd.DataFrame()\n",
    "    \n",
    "    for lang in LANGUAGES:\n",
    "        print(f\"Coletando dados para {lang}...\")\n",
    "        df = fetch_repos_by_language(lang)\n",
    "        if not df.empty:\n",
    "            all_data = pd.concat([all_data, df], ignore_index=True)\n",
    "            print(f\"{len(df)} repositórios de {lang} coletados!\")\n",
    "            time.sleep(300)  \n",
    "            \n",
    "    if not all_data.empty:\n",
    "        all_data.to_csv(\"github_repos_completos.csv\", index=False, encoding='utf-8')\n",
    "        print(f\"Todos os dados salvos em 'github_repos_completos2.csv'! Total: {len(all_data)} repositórios\")\n",
    "    else:\n",
    "        print(\"Nenhum dado foi coletado.\")\n",
    "\n",
    "if __name__ == \"__main__\":\n",
    "    main()"
   ]
  },
  {
   "cell_type": "markdown",
   "id": "636ac87c",
   "metadata": {},
   "source": [
    "## 📋 Estrutura do Dataset (Colunas Extraídas)\n",
    "\n",
    "| Coluna                 | Tipo de Dado | Descrição                                                                 | Exemplo                     |\n",
    "|------------------------|--------------|---------------------------------------------------------------------------|-----------------------------|\n",
    "| **Informações Básicas** |              |                                                                           |                             |\n",
    "| `name`                | string       | Nome do repositório                                                      | `tensorflow`                |\n",
    "| `owner`               | string       | Login do usuário/organização dono                                        | `google`                    |\n",
    "| `language`            | string       | Linguagem principal do projeto                                           | `Python`                    |\n",
    "| **Estatísticas**       |              |                                                                           |                             |\n",
    "| `stars`               | integer      | Número de estrelas                                                       | `175000`                    |\n",
    "| `forks`               | integer      | Número de forks                                                          | `85000`                     |\n",
    "| `watchers_count`      | integer      | Usuários acompanhando o repositório                                      | `3200`                      |\n",
    "| `subscribers_count`   | integer      | Inscritos no repositório (diferente de stars)                            | `1500`                      |\n",
    "| **Atividade**          |              |                                                                           |                             |\n",
    "| `open_issues`         | integer      | Issues abertas no momento                                                | `42`                        |\n",
    "| `closed_issues`       | integer      | Issues fechadas nos últimos 6 meses                                      | `128`                       |\n",
    "| `pull_requests`       | integer      | Total de PRs (abertos + fechados)                                        | `75`                        |\n",
    "| `last_year_commits`   | integer      | Commits realizados nos últimos 12 meses                                  | `890`                       |\n",
    "| `contributors`        | integer      | Número de contribuidores únicos                                          | `35`                        |\n",
    "| **Metadados**          |              |                                                                           |                             |\n",
    "| `created_at`          | datetime     | Data de criação do repositório (UTC)                                     | `2015-11-09T23:25:38Z`      |\n",
    "| `updated_at`          | datetime     | Data da última atualização                                               | `2024-03-15T08:12:45Z`      |\n",
    "| `size_kb`             | integer      | Tamanho aproximado do repositório em KB                                  | `10240`                     |\n",
    "| **Informações do Dono**|              |                                                                           |                             |\n",
    "| `owner_type`          | string       | Tipo do dono (`User` ou `Organization`)                                  | `Organization`              |\n",
    "| `owner_public_repos`  | integer      | Quantidade de repositórios públicos do dono                              | `250`                       |\n",
    "| `owner_location`      | string       | Localização geográfica declarada no perfil (opcional)                    | `Mountain View, California` |"
   ]
  },
  {
   "cell_type": "markdown",
   "id": "b8a0d29c",
   "metadata": {},
   "source": [
    "## Repositorio\n",
    "\n",
    "https://github.com/LucasjsSilva/data-set-repositorios"
   ]
  }
 ],
 "metadata": {
  "kernelspec": {
   "display_name": ".venv",
   "language": "python",
   "name": "python3"
  },
  "language_info": {
   "codemirror_mode": {
    "name": "ipython",
    "version": 3
   },
   "file_extension": ".py",
   "mimetype": "text/x-python",
   "name": "python",
   "nbconvert_exporter": "python",
   "pygments_lexer": "ipython3",
   "version": "3.12.3"
  }
 },
 "nbformat": 4,
 "nbformat_minor": 5
}
