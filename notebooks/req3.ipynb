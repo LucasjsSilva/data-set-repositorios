{
  "cells": [
    {
      "cell_type": "markdown",
      "metadata": {
        "id": "8l9mKVBkTp_P"
      },
      "source": [
        "# 🧹 Processo de Limpeza e Qualidade dos Dados\n",
        "\n",
        "## 🎯 Objetivo\n",
        "Estabelecer um dataset confiável e consistente através de técnicas rigorosas de limpeza e validação de qualidade."
      ]
    },
    {
      "cell_type": "code",
      "execution_count": 3,
      "metadata": {
        "id": "3n327Bz4TCe1"
      },
      "outputs": [],
      "source": [
        "import pandas as pd"
      ]
    },
    {
      "cell_type": "code",
      "execution_count": 4,
      "metadata": {
        "colab": {
          "base_uri": "https://localhost:8080/",
          "height": 330
        },
        "id": "DE1JVASDTQk2",
        "outputId": "7f717986-c15f-43e3-f09e-8bbd369626b7"
      },
      "outputs": [
        {
          "data": {
            "text/html": [
              "<div>\n",
              "<style scoped>\n",
              "    .dataframe tbody tr th:only-of-type {\n",
              "        vertical-align: middle;\n",
              "    }\n",
              "\n",
              "    .dataframe tbody tr th {\n",
              "        vertical-align: top;\n",
              "    }\n",
              "\n",
              "    .dataframe thead th {\n",
              "        text-align: right;\n",
              "    }\n",
              "</style>\n",
              "<table border=\"1\" class=\"dataframe\">\n",
              "  <thead>\n",
              "    <tr style=\"text-align: right;\">\n",
              "      <th></th>\n",
              "      <th>name</th>\n",
              "      <th>owner</th>\n",
              "      <th>stars</th>\n",
              "      <th>forks</th>\n",
              "      <th>language</th>\n",
              "      <th>created_at</th>\n",
              "      <th>updated_at</th>\n",
              "      <th>size_kb</th>\n",
              "      <th>watchers_count</th>\n",
              "      <th>open_issues</th>\n",
              "      <th>owner_type</th>\n",
              "      <th>owner_public_repos</th>\n",
              "      <th>owner_location</th>\n",
              "      <th>subscribers_count</th>\n",
              "      <th>last_year_commits</th>\n",
              "      <th>contributors</th>\n",
              "      <th>closed_issues</th>\n",
              "      <th>pull_requests</th>\n",
              "    </tr>\n",
              "  </thead>\n",
              "  <tbody>\n",
              "    <tr>\n",
              "      <th>0</th>\n",
              "      <td>free-programming-books</td>\n",
              "      <td>EbookFoundation</td>\n",
              "      <td>359735</td>\n",
              "      <td>63576</td>\n",
              "      <td>Python</td>\n",
              "      <td>2013-10-11T06:50:37Z</td>\n",
              "      <td>2025-06-21T02:09:07Z</td>\n",
              "      <td>19483</td>\n",
              "      <td>359735</td>\n",
              "      <td>45</td>\n",
              "      <td>Organization</td>\n",
              "      <td>37</td>\n",
              "      <td>virtual</td>\n",
              "      <td>5000</td>\n",
              "      <td>339</td>\n",
              "      <td>432</td>\n",
              "      <td>129</td>\n",
              "      <td>15</td>\n",
              "    </tr>\n",
              "    <tr>\n",
              "      <th>1</th>\n",
              "      <td>public-apis</td>\n",
              "      <td>public-apis</td>\n",
              "      <td>351991</td>\n",
              "      <td>37004</td>\n",
              "      <td>Python</td>\n",
              "      <td>2016-03-20T23:49:42Z</td>\n",
              "      <td>2025-06-21T02:06:40Z</td>\n",
              "      <td>4771</td>\n",
              "      <td>351991</td>\n",
              "      <td>492</td>\n",
              "      <td>Organization</td>\n",
              "      <td>1</td>\n",
              "      <td>NaN</td>\n",
              "      <td>4316</td>\n",
              "      <td>5</td>\n",
              "      <td>427</td>\n",
              "      <td>159</td>\n",
              "      <td>490</td>\n",
              "    </tr>\n",
              "    <tr>\n",
              "      <th>2</th>\n",
              "      <td>system-design-primer</td>\n",
              "      <td>donnemartin</td>\n",
              "      <td>306925</td>\n",
              "      <td>50727</td>\n",
              "      <td>Python</td>\n",
              "      <td>2017-02-26T16:15:28Z</td>\n",
              "      <td>2025-06-21T02:06:11Z</td>\n",
              "      <td>11239</td>\n",
              "      <td>306925</td>\n",
              "      <td>498</td>\n",
              "      <td>User</td>\n",
              "      <td>27</td>\n",
              "      <td>Washington, D.C.</td>\n",
              "      <td>5000</td>\n",
              "      <td>4</td>\n",
              "      <td>113</td>\n",
              "      <td>18</td>\n",
              "      <td>256</td>\n",
              "    </tr>\n",
              "    <tr>\n",
              "      <th>3</th>\n",
              "      <td>awesome-python</td>\n",
              "      <td>vinta</td>\n",
              "      <td>247255</td>\n",
              "      <td>25843</td>\n",
              "      <td>Python</td>\n",
              "      <td>2014-06-27T21:00:06Z</td>\n",
              "      <td>2025-06-21T02:08:14Z</td>\n",
              "      <td>6769</td>\n",
              "      <td>247255</td>\n",
              "      <td>486</td>\n",
              "      <td>User</td>\n",
              "      <td>20</td>\n",
              "      <td>Taiwan</td>\n",
              "      <td>5000</td>\n",
              "      <td>1</td>\n",
              "      <td>368</td>\n",
              "      <td>28</td>\n",
              "      <td>471</td>\n",
              "    </tr>\n",
              "    <tr>\n",
              "      <th>4</th>\n",
              "      <td>Python</td>\n",
              "      <td>TheAlgorithms</td>\n",
              "      <td>201541</td>\n",
              "      <td>46909</td>\n",
              "      <td>Python</td>\n",
              "      <td>2016-07-16T09:44:01Z</td>\n",
              "      <td>2025-06-21T01:50:56Z</td>\n",
              "      <td>15391</td>\n",
              "      <td>201541</td>\n",
              "      <td>397</td>\n",
              "      <td>Organization</td>\n",
              "      <td>44</td>\n",
              "      <td>India</td>\n",
              "      <td>5000</td>\n",
              "      <td>181</td>\n",
              "      <td>454</td>\n",
              "      <td>334</td>\n",
              "      <td>329</td>\n",
              "    </tr>\n",
              "  </tbody>\n",
              "</table>\n",
              "</div>"
            ],
            "text/plain": [
              "                     name            owner   stars  forks language  \\\n",
              "0  free-programming-books  EbookFoundation  359735  63576   Python   \n",
              "1             public-apis      public-apis  351991  37004   Python   \n",
              "2    system-design-primer      donnemartin  306925  50727   Python   \n",
              "3          awesome-python            vinta  247255  25843   Python   \n",
              "4                  Python    TheAlgorithms  201541  46909   Python   \n",
              "\n",
              "             created_at            updated_at  size_kb  watchers_count  \\\n",
              "0  2013-10-11T06:50:37Z  2025-06-21T02:09:07Z    19483          359735   \n",
              "1  2016-03-20T23:49:42Z  2025-06-21T02:06:40Z     4771          351991   \n",
              "2  2017-02-26T16:15:28Z  2025-06-21T02:06:11Z    11239          306925   \n",
              "3  2014-06-27T21:00:06Z  2025-06-21T02:08:14Z     6769          247255   \n",
              "4  2016-07-16T09:44:01Z  2025-06-21T01:50:56Z    15391          201541   \n",
              "\n",
              "   open_issues    owner_type  owner_public_repos    owner_location  \\\n",
              "0           45  Organization                  37           virtual   \n",
              "1          492  Organization                   1               NaN   \n",
              "2          498          User                  27  Washington, D.C.   \n",
              "3          486          User                  20            Taiwan   \n",
              "4          397  Organization                  44             India   \n",
              "\n",
              "   subscribers_count  last_year_commits  contributors  closed_issues  \\\n",
              "0               5000                339           432            129   \n",
              "1               4316                  5           427            159   \n",
              "2               5000                  4           113             18   \n",
              "3               5000                  1           368             28   \n",
              "4               5000                181           454            334   \n",
              "\n",
              "   pull_requests  \n",
              "0             15  \n",
              "1            490  \n",
              "2            256  \n",
              "3            471  \n",
              "4            329  "
            ]
          },
          "execution_count": 4,
          "metadata": {},
          "output_type": "execute_result"
        }
      ],
      "source": [
        "# Import the dataset into a pandas DataFrame\n",
        "df = pd.read_csv('../dados/github_repos_completos.csv')\n",
        "\n",
        "df.head()"
      ]
    },
    {
      "cell_type": "markdown",
      "metadata": {
        "id": "F_srVzStVXph"
      },
      "source": [
        "## ❌ Tratamento de Dados Ausentes (Missing Data)\n",
        "\n",
        "### Diagnóstico de Ausências\n",
        "Identificação e quantificação sistemática de valores faltantes em todas as colunas.\n",
        "\n",
        "**Estratégias de Tratamento:**\n",
        "- **`language`:** Exclusão de registros (dados críticos para análise)\n",
        "- **`owner_location`:** Imputação com \"Not informed\" (dado opcional)\n",
        "\n",
        "### Justificativas Técnicas:\n",
        "- **Linguagem é fundamental** para categorização e análise comparativa\n",
        "- **Localização é complementar** e pode ser tratada como \"não informado\""
      ]
    },
    {
      "cell_type": "code",
      "execution_count": 5,
      "metadata": {
        "colab": {
          "base_uri": "https://localhost:8080/",
          "height": 648
        },
        "id": "ZohsXbuvdFza",
        "outputId": "42c43f2d-3f82-46ea-9129-d0bb94f3630a"
      },
      "outputs": [
        {
          "data": {
            "text/plain": [
              "name                     0\n",
              "owner                    0\n",
              "stars                    0\n",
              "forks                    0\n",
              "language                 1\n",
              "created_at               0\n",
              "updated_at               0\n",
              "size_kb                  0\n",
              "watchers_count           0\n",
              "open_issues              0\n",
              "owner_type               0\n",
              "owner_public_repos       0\n",
              "owner_location        3969\n",
              "subscribers_count        0\n",
              "last_year_commits        0\n",
              "contributors             0\n",
              "closed_issues            0\n",
              "pull_requests            0\n",
              "dtype: int64"
            ]
          },
          "execution_count": 5,
          "metadata": {},
          "output_type": "execute_result"
        }
      ],
      "source": [
        "# Check for and sum the number of missing (null) values for each column.\n",
        "df.isnull().sum()"
      ]
    },
    {
      "cell_type": "code",
      "execution_count": 7,
      "metadata": {
        "colab": {
          "base_uri": "https://localhost:8080/"
        },
        "id": "7h144VX7dsxi",
        "outputId": "58d5c83b-9133-4d26-e5c9-a0ded08b52ac"
      },
      "outputs": [
        {
          "name": "stdout",
          "output_type": "stream",
          "text": [
            "Proporção de nulos:\n",
            "Atributo language: 0.01%\n",
            "Atributo owner_location: 42.00%\n"
          ]
        }
      ],
      "source": [
        "# Calculate and print the proportion of null values for 'language' and 'owner_location' columns.\n",
        "language_null_prop = (df['language'].isnull().sum() / len(df)) * 100\n",
        "location_null_prop = (df['owner_location'].isnull().sum() / len(df)) * 100\n",
        "\n",
        "print('Proporção de nulos:')\n",
        "print(f'Atributo language: {language_null_prop:.2f}%')\n",
        "print(f'Atributo owner_location: {location_null_prop:.2f}%')"
      ]
    },
    {
      "cell_type": "code",
      "execution_count": 8,
      "metadata": {
        "colab": {
          "base_uri": "https://localhost:8080/"
        },
        "id": "kSAg8LA0Vqon",
        "outputId": "3c4bca4c-f602-4a9b-f6ae-242521686f2f"
      },
      "outputs": [
        {
          "name": "stderr",
          "output_type": "stream",
          "text": [
            "/tmp/ipykernel_2576/474970543.py:4: FutureWarning: A value is trying to be set on a copy of a DataFrame or Series through chained assignment using an inplace method.\n",
            "The behavior will change in pandas 3.0. This inplace method will never work because the intermediate object on which we are setting values always behaves as a copy.\n",
            "\n",
            "For example, when doing 'df[col].method(value, inplace=True)', try using 'df.method({col: value}, inplace=True)' or df[col] = df[col].method(value) instead, to perform the operation inplace on the original object.\n",
            "\n",
            "\n",
            "  df['owner_location'].fillna('Not informed', inplace=True)\n"
          ]
        }
      ],
      "source": [
        "# Handle missing values:\n",
        "df = df[df['language'].notnull()]\n",
        "\n",
        "df['owner_location'].fillna('Not informed', inplace=True)"
      ]
    },
    {
      "cell_type": "code",
      "execution_count": 9,
      "metadata": {
        "colab": {
          "base_uri": "https://localhost:8080/",
          "height": 648
        },
        "id": "ERfXtqJoVwbY",
        "outputId": "4850384c-8003-4ab1-9319-a57db86c11c7"
      },
      "outputs": [
        {
          "data": {
            "text/plain": [
              "name                  0\n",
              "owner                 0\n",
              "stars                 0\n",
              "forks                 0\n",
              "language              0\n",
              "created_at            0\n",
              "updated_at            0\n",
              "size_kb               0\n",
              "watchers_count        0\n",
              "open_issues           0\n",
              "owner_type            0\n",
              "owner_public_repos    0\n",
              "owner_location        0\n",
              "subscribers_count     0\n",
              "last_year_commits     0\n",
              "contributors          0\n",
              "closed_issues         0\n",
              "pull_requests         0\n",
              "dtype: int64"
            ]
          },
          "execution_count": 9,
          "metadata": {},
          "output_type": "execute_result"
        }
      ],
      "source": [
        "df.isnull().sum()"
      ]
    },
    {
      "cell_type": "markdown",
      "metadata": {
        "id": "IUKZGsqbhGTV"
      },
      "source": [
        "## 🔄 Eliminação de Duplicatas\n",
        "\n",
        "### Detecção de Redundâncias\n",
        "Identificação de registros completamente idênticos que podem distorcer análises estatísticas.\n",
        "\n",
        "**Processo:**\n",
        "1. **Identificação:** Localização de linhas duplicadas\n",
        "2. **Análise:** Distribuição por linguagem para entender padrões\n",
        "3. **Remoção:** Eliminação mantendo apenas registros únicos\n",
        "\n",
        "**Impacto:** Redução do viés estatístico e melhoria na qualidade das análises"
      ]
    },
    {
      "cell_type": "code",
      "execution_count": 10,
      "metadata": {
        "colab": {
          "base_uri": "https://localhost:8080/"
        },
        "id": "tBBfMHHAVx3d",
        "outputId": "b80fc6b8-d21a-4854-e0a0-f35363a63f27"
      },
      "outputs": [
        {
          "name": "stdout",
          "output_type": "stream",
          "text": [
            "Quantidade de duplicatas completas: 348\n"
          ]
        }
      ],
      "source": [
        "# Identify and count completely duplicate rows in the DataFrame.\n",
        "df_duplicated = df[df.duplicated()]\n",
        "\n",
        "print(f\"Quantidade de duplicatas completas: {df_duplicated.shape[0]}\")"
      ]
    },
    {
      "cell_type": "code",
      "execution_count": 11,
      "metadata": {
        "colab": {
          "base_uri": "https://localhost:8080/",
          "height": 178
        },
        "id": "q1qco_4mxAlO",
        "outputId": "017dbb7e-afa7-4503-a468-b3a402d9283c"
      },
      "outputs": [
        {
          "data": {
            "text/plain": [
              "language\n",
              "C       347\n",
              "Java      1\n",
              "Name: count, dtype: int64"
            ]
          },
          "execution_count": 11,
          "metadata": {},
          "output_type": "execute_result"
        }
      ],
      "source": [
        "df_duplicated['language'].value_counts()"
      ]
    },
    {
      "cell_type": "code",
      "execution_count": 12,
      "metadata": {
        "colab": {
          "base_uri": "https://localhost:8080/"
        },
        "id": "eHUXiww0V1oU",
        "outputId": "29a53aa8-4405-4f86-92dd-37ea421fc206"
      },
      "outputs": [
        {
          "name": "stdout",
          "output_type": "stream",
          "text": [
            "Após exclusão de dados duplicados: 9101 registros\n"
          ]
        }
      ],
      "source": [
        "# Remove all identified duplicate rows from the DataFrame.\n",
        "df = df.drop_duplicates()\n",
        "\n",
        "print(f'Após exclusão de dados duplicados: {len(df)} registros')"
      ]
    },
    {
      "cell_type": "markdown",
      "metadata": {
        "id": "WY_ufM4whmNJ"
      },
      "source": [
        "## 🔍 Validação de Consistência de Dados\n",
        "\n",
        "### Verificação de Valores Negativos\n",
        "Auditoria de colunas numéricas para identificar valores fisicamente impossíveis ou inconsistentes.\n",
        "\n",
        "**Colunas Verificadas:**\n",
        "- Métricas de popularidade (stars, forks, subscribers)\n",
        "- Indicadores de atividade (commits, contributors, issues)\n",
        "- Dados temporais e de tamanho\n",
        "\n",
        "### Validação de Formatos de Data\n",
        "Conversão e validação de colunas temporais com tratamento de erros.\n",
        "\n",
        "**Processo:**\n",
        "- Conversão para `datetime` com `errors='coerce'`\n",
        "- Identificação de valores não convertíveis\n",
        "- Relatório de qualidade da conversão\n",
        "\n",
        "### Auditoria de Dados Numéricos\n",
        "Verificação de valores não numéricos em colunas esperadamente numéricas."
      ]
    },
    {
      "cell_type": "code",
      "execution_count": 13,
      "metadata": {
        "colab": {
          "base_uri": "https://localhost:8080/"
        },
        "id": "kHMDL0ANV5nI",
        "outputId": "515a93fe-319f-42cb-e370-d6e54b2617ab"
      },
      "outputs": [
        {
          "name": "stdout",
          "output_type": "stream",
          "text": [
            "Coluna 'stars' não possui valores negativos.\n",
            "Coluna 'forks' não possui valores negativos.\n",
            "Coluna 'size_kb' não possui valores negativos.\n",
            "Coluna 'watchers_count' não possui valores negativos.\n",
            "Coluna 'open_issues' não possui valores negativos.\n",
            "Coluna 'owner_public_repos' não possui valores negativos.\n",
            "Coluna 'subscribers_count' não possui valores negativos.\n",
            "Coluna 'last_year_commits' não possui valores negativos.\n",
            "Coluna 'contributors' não possui valores negativos.\n",
            "Coluna 'closed_issues' não possui valores negativos.\n",
            "Coluna 'pull_requests' não possui valores negativos.\n"
          ]
        }
      ],
      "source": [
        "# Identify and list all numeric columns.\n",
        "numeric_columns = df.select_dtypes(include=['int64', 'float64']).columns.tolist()\n",
        "\n",
        "# Iterate through numeric columns to check for and display negative values.\n",
        "for column in numeric_columns:\n",
        "    negativos = df[df[column] < 0]\n",
        "    qtd = negativos.shape[0]\n",
        "    if qtd > 0:\n",
        "        print(f\"\\nColuna '{column}' tem {qtd} valores negativos:\")\n",
        "        print(negativos[[column]].head(10))\n",
        "    else:\n",
        "        print(f\"Coluna '{column}' não possui valores negativos.\")"
      ]
    },
    {
      "cell_type": "code",
      "execution_count": 14,
      "metadata": {
        "colab": {
          "base_uri": "https://localhost:8080/"
        },
        "id": "bSrdQTiuWB3n",
        "outputId": "4e781e2e-819b-4af7-95fc-fcf99f5986a3"
      },
      "outputs": [
        {
          "name": "stdout",
          "output_type": "stream",
          "text": [
            "Coluna 'created_at' após conversão para datetime tem 0 valores que não foram convertidos\n",
            "Coluna 'updated_at' após conversão para datetime tem 0 valores que não foram convertidos\n"
          ]
        }
      ],
      "source": [
        "# Ensuring date columns are in datetime format\n",
        "for col in ['created_at', 'updated_at']:\n",
        "    df[col] = pd.to_datetime(df[col], errors='coerce')\n",
        "\n",
        "    n_nulos = df[col].isna().sum()\n",
        "    print(f\"Coluna '{col}' após conversão para datetime tem {n_nulos} valores que não foram convertidos\")"
      ]
    },
    {
      "cell_type": "code",
      "execution_count": null,
      "metadata": {
        "colab": {
          "base_uri": "https://localhost:8080/"
        },
        "id": "1OAj_Qkih6De",
        "outputId": "663b6bca-75be-431e-8c4d-4ac5d9451b36"
      },
      "outputs": [
        {
          "name": "stdout",
          "output_type": "stream",
          "text": [
            "Coluna 'stars' tem 0 valores não numéricos (NaN após conversão)\n",
            "Coluna 'forks' tem 0 valores não numéricos (NaN após conversão)\n",
            "Coluna 'size_kb' tem 0 valores não numéricos (NaN após conversão)\n",
            "Coluna 'watchers_count' tem 0 valores não numéricos (NaN após conversão)\n",
            "Coluna 'open_issues' tem 0 valores não numéricos (NaN após conversão)\n",
            "Coluna 'owner_public_repos' tem 0 valores não numéricos (NaN após conversão)\n",
            "Coluna 'subscribers_count' tem 0 valores não numéricos (NaN após conversão)\n",
            "Coluna 'last_year_commits' tem 0 valores não numéricos (NaN após conversão)\n",
            "Coluna 'contributors' tem 0 valores não numéricos (NaN após conversão)\n",
            "Coluna 'closed_issues' tem 0 valores não numéricos (NaN após conversão)\n",
            "Coluna 'pull_requests' tem 0 valores não numéricos (NaN após conversão)\n"
          ]
        }
      ],
      "source": [
        "# Checking for non-numeric entries in numeric columns\n",
        "for col in numeric_columns:\n",
        "    coerced = pd.to_numeric(df[col], errors='coerce')\n",
        "    n_invalidos = coerced.isna().sum()\n",
        "    print(f\"Coluna '{col}' tem {n_invalidos} valores não numéricos\")"
      ]
    },
    {
      "cell_type": "markdown",
      "metadata": {},
      "source": [
        "## 📊 Análise de Dados Categóricos\n",
        "\n",
        "### Padronização e Normalização\n",
        "Investigação de variações e inconsistências em dados categóricos.\n",
        "\n",
        "**Técnicas Aplicadas:**\n",
        "- **Normalização:** Conversão para lowercase e remoção de espaços\n",
        "- **Contagem de Frequências:** Identificação de variações e duplicatas semânticas\n",
        "- **Detecção de Padrões:** Análise de consistência em categorias\n",
        "\n",
        "### Tratamento Especial de Localizações\n",
        "Exportação detalhada de dados de localização para análise geográfica posterior."
      ]
    },
    {
      "cell_type": "code",
      "execution_count": 16,
      "metadata": {
        "colab": {
          "base_uri": "https://localhost:8080/"
        },
        "id": "m7WmcJu-WRGm",
        "outputId": "91a342c9-5e77-42f6-ff63-252bbf7f1f0c"
      },
      "outputs": [
        {
          "name": "stdout",
          "output_type": "stream",
          "text": [
            "\n",
            "Valores únicos e suas contagens na coluna 'name':\n",
            "leetcode      3\n",
            "tv            2\n",
            "pulse         2\n",
            "cameraview    2\n",
            "icecream      2\n",
            "gifski        2\n",
            "menu          2\n",
            "eureka        2\n",
            "cardslider    2\n",
            "java          2\n",
            "schedule      2\n",
            "ignite        2\n",
            "time          2\n",
            "surge         2\n",
            "glance        2\n",
            "nuklear       2\n",
            "iris          2\n",
            "shadow        2\n",
            "skip          2\n",
            "ios           2\n",
            "Name: count, dtype: int64\n",
            "\n",
            "Valores únicos e suas contagens na coluna 'owner':\n",
            "stasel                  1\n",
            "ebookfoundation         1\n",
            "public-apis             1\n",
            "donnemartin             1\n",
            "vinta                   1\n",
            "thealgorithms           1\n",
            "significant-gravitas    1\n",
            "automatic1111           1\n",
            "cocoapods               1\n",
            "hearthsim               1\n",
            "xjbeta                  1\n",
            "slazyk                  1\n",
            "marioiannotta           1\n",
            "radex                   1\n",
            "kaandedeoglu            1\n",
            "alexeybelezeko          1\n",
            "yeahdongcn              1\n",
            "venmo                   1\n",
            "jiritrecak              1\n",
            "pixel16                 1\n",
            "Name: count, dtype: int64\n",
            "\n",
            "Valores únicos e suas contagens na coluna 'language':\n",
            "python        1\n",
            "javascript    1\n",
            "java          1\n",
            "c             1\n",
            "typescript    1\n",
            "go            1\n",
            "rust          1\n",
            "kotlin        1\n",
            "swift         1\n",
            "Name: count, dtype: int64\n",
            "\n",
            "Valores únicos e suas contagens na coluna 'owner_type':\n",
            "organization    1\n",
            "user            1\n",
            "Name: count, dtype: int64\n",
            "\n",
            "Valores únicos e suas contagens na coluna 'owner_location':\n",
            "beijing,china             5\n",
            "beijing                   4\n",
            "hangzhou china            4\n",
            "china beijing             3\n",
            "chengdu,china             3\n",
            "shenzhen, china           3\n",
            "shanghai                  3\n",
            "hangzhou,china            3\n",
            "chongqing                 3\n",
            "guangzhou                 3\n",
            "chengdu                   3\n",
            "hangzhou, china           3\n",
            "shenzhen                  3\n",
            "ann arbor, mi             2\n",
            "the internet              2\n",
            "san francisco, ca         2\n",
            "san francisco bay area    2\n",
            "sunnyvale, ca             2\n",
            "guangzhou, china          2\n",
            "bay area                  2\n",
            "Name: count, dtype: int64\n"
          ]
        }
      ],
      "source": [
        "# Identify categorical columns.\n",
        "categorical_columns = df.select_dtypes(include=['object']).columns.tolist()\n",
        "\n",
        "# For each categorical column, print unique values and their normalized counts.\n",
        "for col in categorical_columns:\n",
        "    print(f\"\\nValores únicos e suas contagens na coluna '{col}':\")\n",
        "    valores_unicos = df[col].dropna().unique()\n",
        "\n",
        "    # Normalizing to lower case and removing spaces to identify variations.\n",
        "    valores_normalizados = [str(v).strip().lower() for v in valores_unicos]\n",
        "    contagem = pd.Series(valores_normalizados).value_counts()\n",
        "\n",
        "    print(contagem.head(20))"
      ]
    },
    {
      "cell_type": "code",
      "execution_count": null,
      "metadata": {
        "id": "np8eXGU-03ju"
      },
      "outputs": [],
      "source": [
        "unique_locations = df['owner_location'].dropna().unique()\n",
        "\n",
        "unique_location_normalized = [str(v).strip().lower() for v in unique_locations]\n",
        "contagem_df = pd.Series(unique_location_normalized).value_counts().reset_index()\n",
        "contagem_df.columns = ['location', 'count']\n",
        "\n",
        "contagem_df.to_csv('../dados/location_counts.csv', index=False)"
      ]
    },
    {
      "cell_type": "markdown",
      "metadata": {},
      "source": [
        "## 🗑️ Remoção de Colunas Redundantes\n",
        "\n",
        "### Otimização do Dataset\n",
        "Eliminação de colunas com informações duplicadas ou baixo valor analítico.\n",
        "\n",
        "**Colunas Removidas:**\n",
        "- **`owner_location`:** Alta cardinalidade e muitos valores faltantes\n",
        "- **`watchers_count`:** Redundante com outras métricas de engajamento\n",
        "\n",
        "**Justificativa:** Simplificação do dataset mantendo informações essenciais"
      ]
    },
    {
      "cell_type": "code",
      "execution_count": null,
      "metadata": {},
      "outputs": [
        {
          "data": {
            "text/html": [
              "<div>\n",
              "<style scoped>\n",
              "    .dataframe tbody tr th:only-of-type {\n",
              "        vertical-align: middle;\n",
              "    }\n",
              "\n",
              "    .dataframe tbody tr th {\n",
              "        vertical-align: top;\n",
              "    }\n",
              "\n",
              "    .dataframe thead th {\n",
              "        text-align: right;\n",
              "    }\n",
              "</style>\n",
              "<table border=\"1\" class=\"dataframe\">\n",
              "  <thead>\n",
              "    <tr style=\"text-align: right;\">\n",
              "      <th></th>\n",
              "      <th>name</th>\n",
              "      <th>owner</th>\n",
              "      <th>stars</th>\n",
              "      <th>forks</th>\n",
              "      <th>language</th>\n",
              "      <th>created_at</th>\n",
              "      <th>updated_at</th>\n",
              "      <th>size_kb</th>\n",
              "      <th>open_issues</th>\n",
              "      <th>owner_type</th>\n",
              "      <th>owner_public_repos</th>\n",
              "      <th>subscribers_count</th>\n",
              "      <th>last_year_commits</th>\n",
              "      <th>contributors</th>\n",
              "      <th>closed_issues</th>\n",
              "      <th>pull_requests</th>\n",
              "    </tr>\n",
              "  </thead>\n",
              "  <tbody>\n",
              "    <tr>\n",
              "      <th>0</th>\n",
              "      <td>free-programming-books</td>\n",
              "      <td>EbookFoundation</td>\n",
              "      <td>359735</td>\n",
              "      <td>63576</td>\n",
              "      <td>Python</td>\n",
              "      <td>2013-10-11 06:50:37+00:00</td>\n",
              "      <td>2025-06-21 02:09:07+00:00</td>\n",
              "      <td>19483</td>\n",
              "      <td>45</td>\n",
              "      <td>Organization</td>\n",
              "      <td>37</td>\n",
              "      <td>5000</td>\n",
              "      <td>339</td>\n",
              "      <td>432</td>\n",
              "      <td>129</td>\n",
              "      <td>15</td>\n",
              "    </tr>\n",
              "    <tr>\n",
              "      <th>1</th>\n",
              "      <td>public-apis</td>\n",
              "      <td>public-apis</td>\n",
              "      <td>351991</td>\n",
              "      <td>37004</td>\n",
              "      <td>Python</td>\n",
              "      <td>2016-03-20 23:49:42+00:00</td>\n",
              "      <td>2025-06-21 02:06:40+00:00</td>\n",
              "      <td>4771</td>\n",
              "      <td>492</td>\n",
              "      <td>Organization</td>\n",
              "      <td>1</td>\n",
              "      <td>4316</td>\n",
              "      <td>5</td>\n",
              "      <td>427</td>\n",
              "      <td>159</td>\n",
              "      <td>490</td>\n",
              "    </tr>\n",
              "    <tr>\n",
              "      <th>2</th>\n",
              "      <td>system-design-primer</td>\n",
              "      <td>donnemartin</td>\n",
              "      <td>306925</td>\n",
              "      <td>50727</td>\n",
              "      <td>Python</td>\n",
              "      <td>2017-02-26 16:15:28+00:00</td>\n",
              "      <td>2025-06-21 02:06:11+00:00</td>\n",
              "      <td>11239</td>\n",
              "      <td>498</td>\n",
              "      <td>User</td>\n",
              "      <td>27</td>\n",
              "      <td>5000</td>\n",
              "      <td>4</td>\n",
              "      <td>113</td>\n",
              "      <td>18</td>\n",
              "      <td>256</td>\n",
              "    </tr>\n",
              "    <tr>\n",
              "      <th>3</th>\n",
              "      <td>awesome-python</td>\n",
              "      <td>vinta</td>\n",
              "      <td>247255</td>\n",
              "      <td>25843</td>\n",
              "      <td>Python</td>\n",
              "      <td>2014-06-27 21:00:06+00:00</td>\n",
              "      <td>2025-06-21 02:08:14+00:00</td>\n",
              "      <td>6769</td>\n",
              "      <td>486</td>\n",
              "      <td>User</td>\n",
              "      <td>20</td>\n",
              "      <td>5000</td>\n",
              "      <td>1</td>\n",
              "      <td>368</td>\n",
              "      <td>28</td>\n",
              "      <td>471</td>\n",
              "    </tr>\n",
              "    <tr>\n",
              "      <th>4</th>\n",
              "      <td>Python</td>\n",
              "      <td>TheAlgorithms</td>\n",
              "      <td>201541</td>\n",
              "      <td>46909</td>\n",
              "      <td>Python</td>\n",
              "      <td>2016-07-16 09:44:01+00:00</td>\n",
              "      <td>2025-06-21 01:50:56+00:00</td>\n",
              "      <td>15391</td>\n",
              "      <td>397</td>\n",
              "      <td>Organization</td>\n",
              "      <td>44</td>\n",
              "      <td>5000</td>\n",
              "      <td>181</td>\n",
              "      <td>454</td>\n",
              "      <td>334</td>\n",
              "      <td>329</td>\n",
              "    </tr>\n",
              "    <tr>\n",
              "      <th>...</th>\n",
              "      <td>...</td>\n",
              "      <td>...</td>\n",
              "      <td>...</td>\n",
              "      <td>...</td>\n",
              "      <td>...</td>\n",
              "      <td>...</td>\n",
              "      <td>...</td>\n",
              "      <td>...</td>\n",
              "      <td>...</td>\n",
              "      <td>...</td>\n",
              "      <td>...</td>\n",
              "      <td>...</td>\n",
              "      <td>...</td>\n",
              "      <td>...</td>\n",
              "      <td>...</td>\n",
              "      <td>...</td>\n",
              "    </tr>\n",
              "    <tr>\n",
              "      <th>9445</th>\n",
              "      <td>YNSearch</td>\n",
              "      <td>younatics</td>\n",
              "      <td>1194</td>\n",
              "      <td>101</td>\n",
              "      <td>Swift</td>\n",
              "      <td>2017-04-16 05:59:12+00:00</td>\n",
              "      <td>2025-06-19 15:25:24+00:00</td>\n",
              "      <td>6384</td>\n",
              "      <td>3</td>\n",
              "      <td>User</td>\n",
              "      <td>60</td>\n",
              "      <td>24</td>\n",
              "      <td>0</td>\n",
              "      <td>5</td>\n",
              "      <td>0</td>\n",
              "      <td>0</td>\n",
              "    </tr>\n",
              "    <tr>\n",
              "      <th>9446</th>\n",
              "      <td>ReactKit</td>\n",
              "      <td>ReactKit</td>\n",
              "      <td>1194</td>\n",
              "      <td>40</td>\n",
              "      <td>Swift</td>\n",
              "      <td>2014-09-29 14:09:19+00:00</td>\n",
              "      <td>2025-04-20 09:17:41+00:00</td>\n",
              "      <td>1131</td>\n",
              "      <td>11</td>\n",
              "      <td>Organization</td>\n",
              "      <td>5</td>\n",
              "      <td>46</td>\n",
              "      <td>0</td>\n",
              "      <td>3</td>\n",
              "      <td>0</td>\n",
              "      <td>0</td>\n",
              "    </tr>\n",
              "    <tr>\n",
              "      <th>9447</th>\n",
              "      <td>CardSlider</td>\n",
              "      <td>saoudrizwan</td>\n",
              "      <td>1191</td>\n",
              "      <td>93</td>\n",
              "      <td>Swift</td>\n",
              "      <td>2017-02-27 21:05:55+00:00</td>\n",
              "      <td>2025-06-19 15:24:59+00:00</td>\n",
              "      <td>109</td>\n",
              "      <td>3</td>\n",
              "      <td>User</td>\n",
              "      <td>27</td>\n",
              "      <td>26</td>\n",
              "      <td>0</td>\n",
              "      <td>2</td>\n",
              "      <td>0</td>\n",
              "      <td>2</td>\n",
              "    </tr>\n",
              "    <tr>\n",
              "      <th>9448</th>\n",
              "      <td>VisualProgrammingLanguage</td>\n",
              "      <td>NathanFlurry</td>\n",
              "      <td>1190</td>\n",
              "      <td>45</td>\n",
              "      <td>Swift</td>\n",
              "      <td>2018-04-01 13:29:12+00:00</td>\n",
              "      <td>2025-06-08 00:26:17+00:00</td>\n",
              "      <td>35950</td>\n",
              "      <td>1</td>\n",
              "      <td>User</td>\n",
              "      <td>46</td>\n",
              "      <td>59</td>\n",
              "      <td>0</td>\n",
              "      <td>2</td>\n",
              "      <td>0</td>\n",
              "      <td>1</td>\n",
              "    </tr>\n",
              "    <tr>\n",
              "      <th>9449</th>\n",
              "      <td>WebRTC-iOS</td>\n",
              "      <td>stasel</td>\n",
              "      <td>1189</td>\n",
              "      <td>246</td>\n",
              "      <td>Swift</td>\n",
              "      <td>2018-05-21 16:48:59+00:00</td>\n",
              "      <td>2025-06-18 05:50:57+00:00</td>\n",
              "      <td>1078</td>\n",
              "      <td>40</td>\n",
              "      <td>User</td>\n",
              "      <td>11</td>\n",
              "      <td>38</td>\n",
              "      <td>0</td>\n",
              "      <td>3</td>\n",
              "      <td>1</td>\n",
              "      <td>1</td>\n",
              "    </tr>\n",
              "  </tbody>\n",
              "</table>\n",
              "<p>9101 rows × 16 columns</p>\n",
              "</div>"
            ],
            "text/plain": [
              "                           name            owner   stars  forks language  \\\n",
              "0        free-programming-books  EbookFoundation  359735  63576   Python   \n",
              "1                   public-apis      public-apis  351991  37004   Python   \n",
              "2          system-design-primer      donnemartin  306925  50727   Python   \n",
              "3                awesome-python            vinta  247255  25843   Python   \n",
              "4                        Python    TheAlgorithms  201541  46909   Python   \n",
              "...                         ...              ...     ...    ...      ...   \n",
              "9445                   YNSearch        younatics    1194    101    Swift   \n",
              "9446                   ReactKit         ReactKit    1194     40    Swift   \n",
              "9447                 CardSlider      saoudrizwan    1191     93    Swift   \n",
              "9448  VisualProgrammingLanguage     NathanFlurry    1190     45    Swift   \n",
              "9449                 WebRTC-iOS           stasel    1189    246    Swift   \n",
              "\n",
              "                    created_at                updated_at  size_kb  \\\n",
              "0    2013-10-11 06:50:37+00:00 2025-06-21 02:09:07+00:00    19483   \n",
              "1    2016-03-20 23:49:42+00:00 2025-06-21 02:06:40+00:00     4771   \n",
              "2    2017-02-26 16:15:28+00:00 2025-06-21 02:06:11+00:00    11239   \n",
              "3    2014-06-27 21:00:06+00:00 2025-06-21 02:08:14+00:00     6769   \n",
              "4    2016-07-16 09:44:01+00:00 2025-06-21 01:50:56+00:00    15391   \n",
              "...                        ...                       ...      ...   \n",
              "9445 2017-04-16 05:59:12+00:00 2025-06-19 15:25:24+00:00     6384   \n",
              "9446 2014-09-29 14:09:19+00:00 2025-04-20 09:17:41+00:00     1131   \n",
              "9447 2017-02-27 21:05:55+00:00 2025-06-19 15:24:59+00:00      109   \n",
              "9448 2018-04-01 13:29:12+00:00 2025-06-08 00:26:17+00:00    35950   \n",
              "9449 2018-05-21 16:48:59+00:00 2025-06-18 05:50:57+00:00     1078   \n",
              "\n",
              "      open_issues    owner_type  owner_public_repos  subscribers_count  \\\n",
              "0              45  Organization                  37               5000   \n",
              "1             492  Organization                   1               4316   \n",
              "2             498          User                  27               5000   \n",
              "3             486          User                  20               5000   \n",
              "4             397  Organization                  44               5000   \n",
              "...           ...           ...                 ...                ...   \n",
              "9445            3          User                  60                 24   \n",
              "9446           11  Organization                   5                 46   \n",
              "9447            3          User                  27                 26   \n",
              "9448            1          User                  46                 59   \n",
              "9449           40          User                  11                 38   \n",
              "\n",
              "      last_year_commits  contributors  closed_issues  pull_requests  \n",
              "0                   339           432            129             15  \n",
              "1                     5           427            159            490  \n",
              "2                     4           113             18            256  \n",
              "3                     1           368             28            471  \n",
              "4                   181           454            334            329  \n",
              "...                 ...           ...            ...            ...  \n",
              "9445                  0             5              0              0  \n",
              "9446                  0             3              0              0  \n",
              "9447                  0             2              0              2  \n",
              "9448                  0             2              0              1  \n",
              "9449                  0             3              1              1  \n",
              "\n",
              "[9101 rows x 16 columns]"
            ]
          },
          "execution_count": 24,
          "metadata": {},
          "output_type": "execute_result"
        }
      ],
      "source": [
        "df = df.drop(['owner_location'], axis=1)\n",
        "df = df.drop(['watchers_count'], axis=1)\n",
        "df"
      ]
    },
    {
      "cell_type": "markdown",
      "metadata": {},
      "source": [
        "## 💾 Persistência do Dataset Limpo\n",
        "\n",
        "Exportação do dataset processado para análises subsequentes.\n",
        "\n",
        "**Arquivo Gerado:** `github_repos_limpo.csv`\n",
        "**Melhorias Obtidas:**\n",
        "- ✅ Eliminação de dados faltantes críticos\n",
        "- ✅ Remoção de duplicatas\n",
        "- ✅ Validação de consistência\n",
        "- ✅ Otimização estrutural"
      ]
    },
    {
      "cell_type": "code",
      "execution_count": 25,
      "metadata": {},
      "outputs": [],
      "source": [
        "df.to_csv('../dados/github_repos_limpo.csv', index=False)"
      ]
    }
  ],
  "metadata": {
    "colab": {
      "provenance": []
    },
    "kernelspec": {
      "display_name": ".venv",
      "language": "python",
      "name": "python3"
    },
    "language_info": {
      "codemirror_mode": {
        "name": "ipython",
        "version": 3
      },
      "file_extension": ".py",
      "mimetype": "text/x-python",
      "name": "python",
      "nbconvert_exporter": "python",
      "pygments_lexer": "ipython3",
      "version": "3.12.3"
    }
  },
  "nbformat": 4,
  "nbformat_minor": 0
}
